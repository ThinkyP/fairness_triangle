{
 "cells": [
  {
   "cell_type": "code",
   "execution_count": 2,
   "id": "9023684e",
   "metadata": {},
   "outputs": [],
   "source": [
    "import pandas as pd\n",
    "import scienceplots\n",
    "import matplotlib.pyplot as plt\n",
    "from sklearn import preprocessing\n",
    "\n",
    "\n",
    "\n",
    "# Define column names\n",
    "columns = [\n",
    "    \"age\", \"workclass\", \"fnlwgt\", \"education\", \"education-num\",\n",
    "    \"marital-status\", \"occupation\", \"relationship\", \"race\", \"sex\",\n",
    "    \"capital-gain\", \"capital-loss\", \"hours-per-week\", \"native-country\", \"income\"\n",
    "]\n",
    "\n",
    "# Load the .txt file (comma-separated)\n",
    "df = pd.read_csv('../datasets/adult/adult.data', names=columns, sep=r'\\s*,\\s*', engine='python', skiprows=1)\n",
    "df_test = pd.read_csv(\"../datasets/adult/adult.test\",names=columns, sep=r'\\s*,\\s*', engine='python', skiprows=1)\n",
    "\n",
    "\n",
    "# Create training and testing variables\n",
    "Y_train = (df[\"income\"] == \">50K\").astype(int)\n",
    "Y_sen_train = (df[\"sex\"] == \"Female\").astype(int)   # Encode sex: Female -> 1, Male -> 0\n",
    "     # One-hot encode categorical variables\n",
    "\n",
    "Y_test = (df_test[\"income\"] == \">50K.\").astype(int)\n",
    "Y_sen_test = (df_test[\"sex\"] == \"Female\").astype(int)\n",
    "\n",
    "\n",
    "\n"
   ]
  },
  {
   "cell_type": "code",
   "execution_count": 3,
   "id": "fe5276f6",
   "metadata": {},
   "outputs": [],
   "source": [
    "X_train = df.drop(columns=[\"sex\", \"income\", \"fnlwgt\"]) \n"
   ]
  },
  {
   "cell_type": "code",
   "execution_count": 4,
   "id": "bbcbd64c",
   "metadata": {},
   "outputs": [],
   "source": [
    "X_train = pd.get_dummies(X_train, drop_first=True) "
   ]
  },
  {
   "cell_type": "code",
   "execution_count": 5,
   "id": "ea8f104b",
   "metadata": {},
   "outputs": [
    {
     "name": "stdout",
     "output_type": "stream",
     "text": [
      "Percentage of rows with capital-gain = 0: 91.67%\n"
     ]
    }
   ],
   "source": [
    "zero_pct = (X_train[\"capital-gain\"] == 0).mean() * 100\n",
    "print(f\"Percentage of rows with capital-gain = 0: {zero_pct:.2f}%\")"
   ]
  },
  {
   "cell_type": "code",
   "execution_count": 6,
   "id": "81dff9aa",
   "metadata": {},
   "outputs": [
    {
     "name": "stdout",
     "output_type": "stream",
     "text": [
      "Percentage of rows with capital-gain = 0: 95.33%\n"
     ]
    }
   ],
   "source": [
    "zero_pct = (X_train[\"capital-loss\"] == 0).mean() * 100\n",
    "print(f\"Percentage of rows with capital-gain = 0: {zero_pct:.2f}%\")"
   ]
  },
  {
   "cell_type": "code",
   "execution_count": 7,
   "id": "00be4cca",
   "metadata": {},
   "outputs": [
    {
     "data": {
      "image/png": "[encoded data removed]",
      "text/plain": [
       "<Figure size 640x480 with 1 Axes>"
      ]
     },
     "metadata": {},
     "output_type": "display_data"
    }
   ],
   "source": [
    "plt.hist(X_train[\"capital-loss\"], bins=50, edgecolor=\"k\")\n",
    "plt.xlabel(\"Capital Gain\")\n",
    "plt.ylabel(\"Frequency\")\n",
    "plt.title(\"Distribution of Capital Gain\")\n",
    "plt.show()"
   ]
  },
  {
   "cell_type": "code",
   "execution_count": 8,
   "id": "9d081469",
   "metadata": {},
   "outputs": [],
   "source": [
    "for col in X_train.select_dtypes(include=\"object\").columns:\n",
    "    print(f\"\\nColumn: {col}\")\n",
    "    print(X_train[col].unique())"
   ]
  },
  {
   "cell_type": "code",
   "execution_count": 9,
   "id": "c421dd73",
   "metadata": {},
   "outputs": [],
   "source": [
    "     # Prepare X_train (features without sensitive attribute and without target)\n",
    "X_train = pd.get_dummies(X_train, drop_first=True) "
   ]
  },
  {
   "cell_type": "code",
   "execution_count": 10,
   "id": "2c71363d",
   "metadata": {},
   "outputs": [
    {
     "name": "stdout",
     "output_type": "stream",
     "text": [
      "[0 1]\n"
     ]
    }
   ],
   "source": [
    "X_test = df_test.drop(columns=[\"sex\", \"income\", \"fnlwgt\"])\n",
    "X_test = pd.get_dummies(X_test, drop_first=True)\n",
    "\n",
    "print(Y_test.unique())\n",
    "# Align columns\n",
    "X_train, X_test = X_train.align(X_test, join=\"left\", axis=1)\n",
    "\n",
    "# Fill NaNs from missing categories in test with 0\n",
    "X_test = X_test.fillna(0)\n",
    "Y_test = Y_test.loc[X_test.index]\n",
    "Y_sen_test = Y_sen_test.loc[X_test.index]"
   ]
  },
  {
   "cell_type": "code",
   "execution_count": 11,
   "id": "288f96d0",
   "metadata": {},
   "outputs": [],
   "source": [
    "num_cols = X_train.select_dtypes(include=[\"int64\", \"float64\"]).columns\n",
    "cat_cols = X_train.select_dtypes(exclude=[\"int64\", \"float64\"]).columns\n",
    "\n",
    "# Initialize scaler\n",
    "scaler =  preprocessing.StandardScaler()\n",
    "\n",
    "# Fit and transform only numeric columns\n",
    "X_train_num_scaled = scaler.fit_transform(X_train[num_cols])\n",
    "\n",
    "# Convert back to DataFrame to keep column names\n",
    "X_train_num_scaled = pd.DataFrame(X_train_num_scaled, columns=num_cols, index=X_train.index)\n",
    "\n",
    "# Concatenate scaled numeric columns with untouched categorical columns\n",
    "X_train_scaled = pd.concat([X_train_num_scaled, X_train[cat_cols]], axis=1)\n",
    "\n",
    "X_test_num_scaled = scaler.transform(X_test[num_cols])\n",
    "X_test_num_scaled = pd.DataFrame(X_test_num_scaled, columns=num_cols, index=X_test.index)\n",
    "X_test_scaled = pd.concat([X_test_num_scaled, X_test[cat_cols]], axis=1)"
   ]
  },
  {
   "cell_type": "code",
   "execution_count": 12,
   "id": "73b0c67f",
   "metadata": {},
   "outputs": [
    {
     "name": "stdout",
     "output_type": "stream",
     "text": [
      "age               1.968395e-16\n",
      "education-num     5.281061e-17\n",
      "capital-gain     -1.964031e-17\n",
      "capital-loss      4.517271e-17\n",
      "hours-per-week    2.869667e-16\n",
      "dtype: float64\n",
      "age               1.000015\n",
      "education-num     1.000015\n",
      "capital-gain      1.000015\n",
      "capital-loss      1.000015\n",
      "hours-per-week    1.000015\n",
      "dtype: float64\n"
     ]
    }
   ],
   "source": [
    "print(X_train_scaled[num_cols].mean())\n",
    "print(X_train_scaled[num_cols].std())\n"
   ]
  },
  {
   "cell_type": "code",
   "execution_count": null,
   "id": "2880645a",
   "metadata": {},
   "outputs": [],
   "source": []
  }
 ],
 "metadata": {
  "kernelspec": {
   "display_name": "base",
   "language": "python",
   "name": "base"
  },
  "language_info": {
   "codemirror_mode": {
    "name": "ipython",
    "version": 3
   },
   "file_extension": ".py",
   "mimetype": "text/x-python",
   "name": "python",
   "nbconvert_exporter": "python",
   "pygments_lexer": "ipython3",
   "version": "3.11.5"
  }
 },
 "nbformat": 4,
 "nbformat_minor": 5
}
