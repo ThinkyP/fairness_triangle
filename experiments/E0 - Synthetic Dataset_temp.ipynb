{
 "cells": [
  {
   "cell_type": "markdown",
   "id": "399498e8",
   "metadata": {},
   "source": [
    "# Experiment: Label Noise and Fairness-Performance Tradeoff\n",
    "This experiment evaluates how label noise affects the tradeoff between fairness and performance in a classification task. We implement the 2LR Plugin-Approach (from Bob's paper) and analyze synthetic data under various levels of label noise."
   ]
  },
  {
   "cell_type": "markdown",
   "id": "619796af",
   "metadata": {},
   "source": [
    "## 1. Import Libraries"
   ]
  },
  {
   "cell_type": "code",
   "execution_count": null,
   "id": "fa01cc5c",
   "metadata": {},
   "outputs": [],
   "source": [
    "from random import seed, shuffle\n",
    "import numpy as np\n",
    "import matplotlib.pyplot as plt\n",
    "from sklearn.linear_model import LogisticRegression\n",
    "import pandas as pd\n",
    "import sys\n",
    "sys.path.insert(1, '/path/to/tools')  # Update this path as needed\n",
    "from gen_synth_data import *\n",
    "from plot_helper import *\n",
    "from corrupt_labels import *\n",
    "from calc_metrics import *\n",
    "%matplotlib inline\n",
    "%config InlineBackend.figure_format = 'retina'"
   ]
  },
  {
   "cell_type": "markdown",
   "id": "b189673c",
   "metadata": {},
   "source": [
    "## 2. Configuration"
   ]
  },
  {
   "cell_type": "code",
   "execution_count": null,
   "id": "0ef4d40c",
   "metadata": {},
   "outputs": [],
   "source": [
    "# Global Experiment Configuration\n",
    "flip_prob = 0.5\n",
    "disc_factor = 0.5\n",
    "n_samples = 2000\n",
    "random_seed = 0"
   ]
  },
  {
   "cell_type": "markdown",
   "id": "af4cb99b",
   "metadata": {},
   "source": [
    "## 3. Data Generation"
   ]
  },
  {
   "cell_type": "code",
   "execution_count": null,
   "id": "85bcb59e",
   "metadata": {},
   "outputs": [],
   "source": [
    "# Set seed for reproducibility\n",
    "np.random.seed(random_seed)\n",
    "\n",
    "# Generate synthetic data\n",
    "X, Y, Y_sen = generate_synthetic_data(False, n_samples=n_samples, disc_factor=disc_factor)\n",
    "Y_corrupted = add_bin_noise(Y, flip_prob)\n",
    "Y_sen_corrupted = add_bin_noise(Y_sen, flip_prob)"
   ]
  },
  {
   "cell_type": "markdown",
   "id": "25d635f8",
   "metadata": {},
   "source": [
    "## 4. Model Training"
   ]
  },
  {
   "cell_type": "code",
   "execution_count": null,
   "id": "621a7751",
   "metadata": {},
   "outputs": [],
   "source": [
    "# Split data\n",
    "split_index = int(0.7 * len(X))\n",
    "X_train, X_test = X[:split_index], X[split_index:]\n",
    "Y_train, Y_test = Y[:split_index], Y[split_index:]\n",
    "Y_corr_train, Y_corr_test = Y_corrupted[:split_index], Y_corrupted[split_index:]\n",
    "Y_sen_train, Y_sen_test = Y_sen[:split_index], Y_sen[split_index:]\n",
    "Y_sen_corr_train, Y_sen_corr_test = Y_sen_corrupted[:split_index], Y_sen_corrupted[split_index:]\n",
    "\n",
    "# Initialize and train models\n",
    "p_reg = LogisticRegression().fit(X_train, Y_train)\n",
    "p_reg_cor = LogisticRegression().fit(X_train, Y_corr_train)\n",
    "f_reg = LogisticRegression().fit(X_train, Y_sen_train)\n",
    "f_reg_cor = LogisticRegression().fit(X_train, Y_sen_corr_train)"
   ]
  },
  {
   "cell_type": "markdown",
   "id": "919bea19",
   "metadata": {},
   "source": [
    "## 5. Visualization of Decision Boundaries"
   ]
  },
  {
   "cell_type": "code",
   "execution_count": null,
   "id": "2f4aba6c",
   "metadata": {},
   "outputs": [],
   "source": [
    "# Example visualization function (uses plot_helper)\n",
    "# subplot_reg_corr(...)"
   ]
  },
  {
   "cell_type": "markdown",
   "id": "0f596c5f",
   "metadata": {},
   "source": [
    "## 6. Metric Calculation: BER and Fairness"
   ]
  },
  {
   "cell_type": "code",
   "execution_count": null,
   "id": "453e13fc",
   "metadata": {},
   "outputs": [],
   "source": [
    "# Sweep over lambda values and calculate metrics\n",
    "lmd_values = np.linspace(0, 2, 100)\n",
    "# Compute metrics here..."
   ]
  },
  {
   "cell_type": "code",
   "execution_count": null,
   "id": "7766f952",
   "metadata": {},
   "outputs": [],
   "source": [
    "# Store results in DataFrame\n",
    "results = pd.DataFrame({\n",
    "    'lambda': lmd_values,\n",
    "    'BER_clean': [],\n",
    "    'MD_clean': [],\n",
    "    'DI_clean': [],\n",
    "    'BER_corr': [],\n",
    "    'MD_corr': [],\n",
    "    'DI_corr': []\n",
    "})"
   ]
  },
  {
   "cell_type": "markdown",
   "id": "72afff08",
   "metadata": {},
   "source": [
    "## 7. Reproducibility Notes\n",
    "- Python version: (fill in)\n",
    "- Libraries: numpy, matplotlib, sklearn, pandas\n",
    "- Custom modules: `gen_synth_data`, `calc_metrics`, etc.\n",
    "- Random seed: 0is\n"
   ]
  }
 ],
 "metadata": {
  "kernelspec": {
   "display_name": "base",
   "language": "python",
   "name": "base"
  },
  "language_info": {
   "name": "python",
   "version": "3.11.5"
  }
 },
 "nbformat": 4,
 "nbformat_minor": 5
}
