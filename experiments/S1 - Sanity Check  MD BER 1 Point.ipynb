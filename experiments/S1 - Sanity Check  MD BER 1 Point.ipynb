{
 "cells": [
  {
   "cell_type": "code",
   "execution_count": 1,
   "metadata": {},
   "outputs": [],
   "source": [
    "## S1 - 1 Point MD BER Behavior"
   ]
  },
  {
   "cell_type": "code",
   "execution_count": 3,
   "metadata": {},
   "outputs": [],
   "source": [
    "from random import seed, shuffle\n",
    "from tqdm import tqdm\n",
    "import sys\n",
    "sys.path.insert(1, '/home/preuer/OneDrive/Studium/Master/Semester/Sem_4/Master Thesis/fairness_triangle/tools') # so i can import tools\n",
    "from gen_synth_data import *\n",
    "from plot_helper import *\n",
    "from corrupt_labels import *\n",
    "from calc_metrics import *\n",
    "from sklearn.linear_model import LogisticRegression\n",
    "import matplotlib.pyplot as plt\n",
    "import numpy as np\n",
    "#Configuration to make plots nicer\n",
    "%matplotlib inline\n",
    "%config InlineBackend.figure_format = 'retina'"
   ]
  },
  {
   "cell_type": "code",
   "execution_count": 5,
   "metadata": {},
   "outputs": [],
   "source": [
    "np.random.seed(0)  # Set seed for reproducibility\n",
    "flip_prob = 0.2 # Probability of flipping each value   0, 0.1 0.2 ... 1\n",
    "disc_factor = 0.5\n",
    "lmd = -0.5\n",
    "\n",
    "\n",
    "X, Y, Y_sen = generate_synthetic_data(False, n_samples=2000, disc_factor=disc_factor)    #n_samples are per gaussian distributions, we have two hence total_n = 2*n_samples\n",
    "\n",
    "Y_corrupted = add_bin_noise(Y, flip_prob)\n",
    "Y_sen_corrupted = add_bin_noise(Y_sen, flip_prob)\n",
    "\n",
    "#Devide Set into training and test set\n",
    "split_index = int(0.7 * len(X))\n",
    "\n",
    "# Split the points into training and testing sets (80/20)\n",
    "X_train, X_test = X[:split_index], X[split_index:]\n",
    "Y_train, Y_test = Y[:split_index], Y[split_index:]\n",
    "Y_sen_train, Y_sen_test = Y_sen[:split_index], Y_sen[split_index:]\n",
    "Y_corr_train, Y_corr_test = Y_corrupted[:split_index], Y_corrupted[split_index:]\n",
    "Y_sen_corr_train, Y_sen_corr_test = Y_sen_corrupted[:split_index], Y_sen_corrupted[split_index:]\n",
    "\n",
    "\n",
    "p_reg, p_reg_cor, f_reg, f_reg_cor = LogisticRegression(), LogisticRegression(), LogisticRegression(), LogisticRegression()\n",
    "p_reg.fit(X_train, Y_train)\n",
    "p_reg_cor.fit(X_train, Y_corr_train)\n",
    "f_reg.fit(X_train, Y_sen_train)\n",
    "f_reg_cor.fit(X_train, Y_sen_corr_train)\n",
    "\n",
    "\n",
    "\n",
    "BER_list = []\n",
    "MD_list = []\n",
    "DI_list = []\n",
    "\n",
    "BER_list_corr = []\n",
    "MD_list_corr = []\n",
    "DI_list_corr = []\n",
    "\n",
    "# Cost sensitivity of classes\n",
    "c, c_bar = 0.5, 0.5\n"
   ]
  },
  {
   "cell_type": "code",
   "execution_count": 6,
   "metadata": {},
   "outputs": [],
   "source": [
    "def calc_perf_fair(lmd, x, y, y_sen, y_corr, y_sen_corr):\n",
    "    c, c_bar = 0.5, 0.5\n",
    "    \n",
    "    #predict point using f_reg and normal targets\n",
    "    s = p_reg.predict_proba([x])[:, 1] - c - lmd * (f_reg.predict_proba([x])[:, 1] - c_bar)\n",
    "    # Apply step function H_a(z) with a = 0\n",
    "    y_pred = np.where(s > 0, 1, 0)\n",
    "        \n",
    "    BER = calc_BER(y_pred, y)\n",
    "    MD = calc_MD(y_pred, y_sen, False)\n",
    "    DI = calc_DI(y_pred, y_sen, False)\n",
    "\n",
    "    #predict point using f_reg and corrupted targets\n",
    "    s = p_reg.predict_proba([x])[:, 1] - c - lmd * (f_reg.predict_proba([x])[:, 1] - c_bar)\n",
    "    # Apply step function H_a(z) with a = 0\n",
    "    y_pred = np.where(s > 0, 1, 0)\n",
    "\n",
    "    BER_corr = calc_BER(y_pred, y_corr)\n",
    "    MD_corr = calc_MD(y_pred, y_sen_corr, False)\n",
    "    DI_corr = calc_DI(y_pred, y_sen_corr, False)\n",
    "    \n",
    "    return BER, MD, DI, BER_corr, MD_corr, DI_corr"
   ]
  },
  {
   "cell_type": "code",
   "execution_count": 9,
   "metadata": {},
   "outputs": [
    {
     "name": "stdout",
     "output_type": "stream",
     "text": [
      "BER: 0.0\n",
      "BER_corr:0.0MD: 0.0\n",
      "MD_corr: -1.0\n",
      "DI: 1.0\n",
      "DI_corr: 0.0\n",
      "\n",
      "[3.98928517 0.6635216 ] 1.0 1.0 0.0 1.0\n",
      "None\n"
     ]
    }
   ],
   "source": [
    "i=9\n",
    "BER, MD, DI, BER_corr, MD_corr, DI_corr = calc_perf_fair(0, X_test[i], Y_test[i], Y_sen_test[i], Y_corr_test[i], Y_sen_corr_test[i])\n",
    "print(\"BER: \" + str(BER) + \"\\n\"  \"BER_corr:\" + str(BER_corr) +  \"MD: \" + str(MD) + \"\\n\" + \"MD_corr: \" + str(MD_corr) + \"\\n\" + \"DI: \" + str(DI) + \"\\n\" + \"DI_corr: \" + str(DI_corr))\n",
    "print()\n",
    "print(print(X_test[i], Y_test[i], Y_corr_test[i], Y_sen_test[i], Y_sen_corr_test[i]))"
   ]
  }
 ],
 "metadata": {
  "kernelspec": {
   "display_name": "base",
   "language": "python",
   "name": "python3"
  },
  "language_info": {
   "codemirror_mode": {
    "name": "ipython",
    "version": 3
   },
   "file_extension": ".py",
   "mimetype": "text/x-python",
   "name": "python",
   "nbconvert_exporter": "python",
   "pygments_lexer": "ipython3",
   "version": "3.11.4"
  }
 },
 "nbformat": 4,
 "nbformat_minor": 2
}
