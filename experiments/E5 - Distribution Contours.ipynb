import numpy as np
import matplotlib.pyplot as plt
from scipy.stats import multivariate_normal
from matplotlib.patches import Ellipse

def generate_data(mean_in, cov_in, n_samples, class_label):
    nv = multivariate_normal(mean=mean_in, cov=cov_in)
    X = nv.rvs(n_samples)
    y = np.ones(n_samples, dtype=float) * class_label
    return nv, X, y

def plot_cov_ellipse(cov, mean, ax, n_std=2.0, edgecolor='black', **kwargs):
    """
    Plots an n-std ellipse based on the covariance matrix and mean.
    """
    eigenvals, eigenvecs = np.linalg.eigh(cov)
    order = eigenvals.argsort()[::-1]
    eigenvals, eigenvecs = eigenvals[order], eigenvecs[:, order]

    angle = np.degrees(np.arctan2(*eigenvecs[:, 0][::-1]))

    # Width and height are "full" lengths, not radius
    width, height = 2 * n_std * np.sqrt(eigenvals)
    ellipse = Ellipse(xy=mean, width=width, height=height, angle=angle,
                      edgecolor=edgecolor, facecolor='none', lw=2, **kwargs)
    ax.add_patch(ellipse)

# Parameters
mean1 = [2, 2]
covar1 = [[5, 1], 
          [1, 5]]

mean2 = [-2, -2]
covar2 = [[10, 1], 
          [1, 3]]

# Generate samples
_, X1, y1 = generate_data(mean1, covar1, 300, class_label=1)
_, X0, y0 = generate_data(mean2, covar2, 300, class_label=0)

# Plot
fig, ax = plt.subplots(figsize=(8, 6))

ax.scatter(X1[:, 0], X1[:, 1], label='Class 1', alpha=0.6)
ax.scatter(X0[:, 0], X0[:, 1], label='Class 0', alpha=0.6)

# Draw ellipses
plot_cov_ellipse(covar1, mean1, ax, edgecolor='blue')
plot_cov_ellipse(covar2, mean2, ax, edgecolor='red')

ax.set_title('Samples and Gaussian Ellipses')
ax.set_xlabel('Feature 1')
ax.set_ylabel('Feature 2')
ax.legend()
ax.grid(True)
plt.show()
